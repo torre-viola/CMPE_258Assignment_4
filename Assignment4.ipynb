{
  "nbformat": 4,
  "nbformat_minor": 0,
  "metadata": {
    "colab": {
      "name": "Assignment4.ipynb",
      "provenance": [],
      "collapsed_sections": []
    },
    "kernelspec": {
      "name": "python3",
      "display_name": "Python 3"
    },
    "language_info": {
      "name": "python"
    }
  },
  "cells": [
    {
      "cell_type": "code",
      "source": [
        "import gym\n",
        "import numpy as np\n",
        "import matplotlib.pyplot as plt\n",
        "\n",
        "env = gym.make('MountainCar-v0')\n",
        "env.reset()"
      ],
      "metadata": {
        "colab": {
          "base_uri": "https://localhost:8080/"
        },
        "id": "_Vo3Vrv16JRm",
        "outputId": "f990c719-1096-4224-ff38-376cd9197581"
      },
      "execution_count": 1,
      "outputs": [
        {
          "output_type": "execute_result",
          "data": {
            "text/plain": [
              "array([-0.58195501,  0.        ])"
            ]
          },
          "metadata": {},
          "execution_count": 1
        }
      ]
    },
    {
      "cell_type": "code",
      "source": [
        "def get_num_states(high, low):\n",
        "    states = (high - low) * np.array([10, 100])\n",
        "    return np.round(states).astype(int)"
      ],
      "metadata": {
        "id": "WNY-aadwsgSQ"
      },
      "execution_count": 2,
      "outputs": []
    },
    {
      "cell_type": "code",
      "source": [
        "def QLearning(env, learning, discount, epsilon, min_eps, episodes):\n",
        "    \n",
        "    # Determine size of discretized state space\n",
        "    num_states = get_num_states(env.observation_space.high, env.observation_space.low)\n",
        "    \n",
        "    # Initialize Q table\n",
        "    Q = np.random.uniform(low = -1, high = 1, \n",
        "                          size = (num_states[0], num_states[1], \n",
        "                                  env.action_space.n))\n",
        "    \n",
        "    # Initialize variables to track rewards\n",
        "    reward_list = []\n",
        "    avg_reward_list = []\n",
        "    \n",
        "    # Calculate episodic reduction in epsilon\n",
        "    reduction = (epsilon - min_eps)/episodes\n",
        "    \n",
        "    # Run Q learning algorithm\n",
        "    for i in range(episodes):\n",
        "        # Initialize parameters\n",
        "        done = False\n",
        "        total_reward = 0\n",
        "        reward = 0\n",
        "        state = env.reset()\n",
        "        \n",
        "        # Discretize state\n",
        "        state_adj = get_num_states(state, env.observation_space.low)\n",
        "    \n",
        "        while not done:   \n",
        "                \n",
        "            # Determine next action - epsilon greedy strategy\n",
        "            if np.random.random() < 1 - epsilon:\n",
        "                action = np.argmax(Q[state_adj[0], state_adj[1]]) \n",
        "            else:\n",
        "                action = np.random.randint(0, env.action_space.n)\n",
        "                \n",
        "            # Get next state and reward\n",
        "            state2, reward, done, info = env.step(action) \n",
        "            \n",
        "            # Discretize state2\n",
        "            state2_adj = get_num_states(state2, env.observation_space.low)\n",
        "            \n",
        "            # Allow for terminal states\n",
        "            if done and state2[0] >= 0.5:\n",
        "                Q[state_adj[0], state_adj[1], action] = reward\n",
        "                \n",
        "            # Adjust Q value for current state\n",
        "            else:\n",
        "                q_loss = reward + discount * np.max(Q[state2_adj[0], state2_adj[1]]) - Q[state_adj[0], state_adj[1],action]\n",
        "                delta = learning * q_loss\n",
        "                Q[state_adj[0], state_adj[1],action] += delta\n",
        "                                     \n",
        "            # Update variables\n",
        "            total_reward += reward\n",
        "            state_adj = state2_adj\n",
        "        \n",
        "        # Decay epsilon\n",
        "        if epsilon > min_eps:\n",
        "            epsilon -= reduction\n",
        "        \n",
        "        # Track rewards\n",
        "        reward_list.append(total_reward)\n",
        "        \n",
        "        if (i+1) % 100 == 0:\n",
        "            avg_reward = np.mean(reward_list)\n",
        "            avg_reward_list.append(avg_reward)\n",
        "            reward_list = []\n",
        "            print('Episode {} Average Reward: {}'.format(i+1, avg_reward))\n",
        "            \n",
        "    env.close()\n",
        "    \n",
        "    return avg_reward_list"
      ],
      "metadata": {
        "id": "cPus2aKMrW4p"
      },
      "execution_count": 3,
      "outputs": []
    },
    {
      "cell_type": "code",
      "source": [
        "# Run Q-learning algorithm\n",
        "rewards = QLearning(env, 0.2, 0.9, 0.8, 0, 5000)"
      ],
      "metadata": {
        "id": "0BSdR4a2r3eZ",
        "colab": {
          "base_uri": "https://localhost:8080/"
        },
        "outputId": "d03e8891-21b8-4337-a880-d8cc962b3f90"
      },
      "execution_count": 4,
      "outputs": [
        {
          "output_type": "stream",
          "name": "stdout",
          "text": [
            "Episode 100 Average Reward: -200.0\n",
            "Episode 200 Average Reward: -200.0\n",
            "Episode 300 Average Reward: -200.0\n",
            "Episode 400 Average Reward: -200.0\n",
            "Episode 500 Average Reward: -200.0\n",
            "Episode 600 Average Reward: -200.0\n",
            "Episode 700 Average Reward: -200.0\n",
            "Episode 800 Average Reward: -200.0\n",
            "Episode 900 Average Reward: -200.0\n",
            "Episode 1000 Average Reward: -200.0\n",
            "Episode 1100 Average Reward: -200.0\n",
            "Episode 1200 Average Reward: -200.0\n",
            "Episode 1300 Average Reward: -200.0\n",
            "Episode 1400 Average Reward: -200.0\n",
            "Episode 1500 Average Reward: -200.0\n",
            "Episode 1600 Average Reward: -200.0\n",
            "Episode 1700 Average Reward: -200.0\n",
            "Episode 1800 Average Reward: -200.0\n",
            "Episode 1900 Average Reward: -200.0\n",
            "Episode 2000 Average Reward: -200.0\n",
            "Episode 2100 Average Reward: -200.0\n",
            "Episode 2200 Average Reward: -200.0\n",
            "Episode 2300 Average Reward: -200.0\n",
            "Episode 2400 Average Reward: -200.0\n",
            "Episode 2500 Average Reward: -200.0\n",
            "Episode 2600 Average Reward: -200.0\n",
            "Episode 2700 Average Reward: -200.0\n",
            "Episode 2800 Average Reward: -200.0\n",
            "Episode 2900 Average Reward: -200.0\n",
            "Episode 3000 Average Reward: -199.93\n",
            "Episode 3100 Average Reward: -200.0\n",
            "Episode 3200 Average Reward: -199.25\n",
            "Episode 3300 Average Reward: -199.94\n",
            "Episode 3400 Average Reward: -196.52\n",
            "Episode 3500 Average Reward: -199.25\n",
            "Episode 3600 Average Reward: -200.0\n",
            "Episode 3700 Average Reward: -199.38\n",
            "Episode 3800 Average Reward: -198.33\n",
            "Episode 3900 Average Reward: -198.25\n",
            "Episode 4000 Average Reward: -198.94\n",
            "Episode 4100 Average Reward: -196.25\n",
            "Episode 4200 Average Reward: -199.29\n",
            "Episode 4300 Average Reward: -197.01\n",
            "Episode 4400 Average Reward: -196.96\n",
            "Episode 4500 Average Reward: -196.08\n",
            "Episode 4600 Average Reward: -186.51\n",
            "Episode 4700 Average Reward: -185.92\n",
            "Episode 4800 Average Reward: -195.1\n",
            "Episode 4900 Average Reward: -181.45\n",
            "Episode 5000 Average Reward: -168.36\n"
          ]
        }
      ]
    },
    {
      "cell_type": "code",
      "source": [
        "# Plot Rewards\n",
        "plt.plot(100*(np.arange(len(rewards)) + 1), rewards)\n",
        "plt.xlabel('Episodes')\n",
        "plt.ylabel('Average Reward')\n",
        "plt.title('Average Reward vs Episodes')\n",
        "plt.show() "
      ],
      "metadata": {
        "id": "m5Cmqd-rrfPR",
        "colab": {
          "base_uri": "https://localhost:8080/",
          "height": 295
        },
        "outputId": "db92cdcf-ad0e-4d80-b073-4060e3c8a4ff"
      },
      "execution_count": 5,
      "outputs": [
        {
          "output_type": "display_data",
          "data": {
            "image/png": "[encoded data removed]",
            "text/plain": [
              "<Figure size 432x288 with 1 Axes>"
            ]
          },
          "metadata": {
            "needs_background": "light"
          }
        }
      ]
    },
    {
      "cell_type": "code",
      "source": [
        ""
      ],
      "metadata": {
        "id": "7s0JnlIL3dqa"
      },
      "execution_count": 5,
      "outputs": []
    }
  ]
}